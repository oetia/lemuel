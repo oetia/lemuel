{
 "cells": [
  {
   "cell_type": "code",
   "execution_count": 1,
   "metadata": {},
   "outputs": [
    {
     "data": {
      "text/plain": [
       "EventEmitter {\n",
       "  _events: [Object: null prototype] {\n",
       "    connect: [Function: bound onceWrapper] {\n",
       "      listener: [AsyncFunction (anonymous)]\n",
       "    },\n",
       "    error: [Function (anonymous)]\n",
       "  },\n",
       "  _eventsCount: 2,\n",
       "  _maxListeners: undefined,\n",
       "  [Symbol(kCapture)]: false\n",
       "}"
      ]
     },
     "execution_count": 1,
     "metadata": {},
     "output_type": "execute_result"
    },
    {
     "name": "stdout",
     "output_type": "stream",
     "text": [
      "undefined\n"
     ]
    }
   ],
   "source": [
    "const CDP = require('chrome-remote-interface');\n",
    "\n",
    "CDP(async function(client) {\n",
    "  const {DOM} = client;\n",
    "  await DOM.enable();\n",
    "\n",
    "  // Get the root document node\n",
    "  const document = await DOM.getDocument();\n",
    "  await \n",
    "  console.log(document)\n",
    "\n",
    "  // Find the first element that matches the selector\n",
    "//   const element = await DOM.querySelector({nodeId: document.root.nodeId, selector: 'h1'});\n",
    "\n",
    "  // Find all elements that match the selector\n",
    "//   const elements = await DOM.querySelectorAll({nodeId: document.root.nodeId, selector: 'p'});\n",
    "\n",
    "//   console.log(element);\n",
    "//   console.log(elements);\n",
    "}).on('error', function(err) {\n",
    "  console.error('Error:', err);\n",
    "});"
   ]
  },
  {
   "cell_type": "code",
   "execution_count": 2,
   "metadata": {},
   "outputs": [],
   "source": [
    "let CDP = require('chrome-remote-interface');"
   ]
  },
  {
   "cell_type": "code",
   "execution_count": 3,
   "metadata": {},
   "outputs": [],
   "source": [
    "let client;"
   ]
  },
  {
   "cell_type": "code",
   "execution_count": 4,
   "metadata": {},
   "outputs": [
    {
     "data": {
      "text/plain": [
       "Promise { <pending> }"
      ]
     },
     "execution_count": 4,
     "metadata": {},
     "output_type": "execute_result"
    }
   ],
   "source": [
    "async function openConnection() {\n",
    "    client = await CDP()\n",
    "}\n",
    "openConnection()"
   ]
  },
  {
   "cell_type": "code",
   "execution_count": 26,
   "metadata": {},
   "outputs": [
    {
     "data": {
      "text/plain": [
       "Promise { <pending> }"
      ]
     },
     "execution_count": 26,
     "metadata": {},
     "output_type": "execute_result"
    }
   ],
   "source": [
    "client.close()"
   ]
  },
  {
   "cell_type": "code",
   "execution_count": 6,
   "metadata": {},
   "outputs": [],
   "source": [
    "let Page = client.Page\n",
    "let Runtime = client.Runtime\n"
   ]
  },
  {
   "cell_type": "code",
   "execution_count": 12,
   "metadata": {},
   "outputs": [
    {
     "data": {
      "text/plain": [
       "Promise { <pending> }"
      ]
     },
     "execution_count": 12,
     "metadata": {},
     "output_type": "execute_result"
    }
   ],
   "source": [
    "// let DOM = client.DOM\n",
    "DOM.enable()"
   ]
  },
  {
   "cell_type": "code",
   "execution_count": null,
   "metadata": {},
   "outputs": [
    {
     "data": {
      "text/plain": [
       "Promise { <pending> }"
      ]
     },
     "execution_count": 13,
     "metadata": {},
     "output_type": "execute_result"
    },
    {
     "name": "stdout",
     "output_type": "stream",
     "text": [
      "undefined\n"
     ]
    }
   ],
   "source": [
    "(async () => {\n",
    "    document = await DOM.getDocument()\n",
    "    console.log(document.body)\n",
    "    // const res = await Runtime.evaluate({expression: \"document.title\", returnByValue: true})\n",
    "    // console.log(res)\n",
    "})()"
   ]
  },
  {
   "cell_type": "code",
   "execution_count": 7,
   "metadata": {},
   "outputs": [
    {
     "ename": "SyntaxError",
     "evalue": "Identifier 'CDP' has already been declared",
     "output_type": "error",
     "traceback": [
      "evalmachine.<anonymous>:1",
      "const CDP = require('chrome-remote-interface');",
      "^",
      "",
      "SyntaxError: Identifier 'CDP' has already been declared",
      "    at Script.runInThisContext (node:vm:128:12)",
      "    at Object.runInThisContext (node:vm:306:38)",
      "    at run ([eval]:1020:15)",
      "    at onRunRequest ([eval]:864:18)",
      "    at onMessage ([eval]:828:13)",
      "    at process.emit (node:events:512:28)",
      "    at emit (node:internal/child_process:944:14)",
      "    at process.processTicksAndRejections (node:internal/process/task_queues:83:21)"
     ]
    }
   ],
   "source": [
    "const CDP = require('chrome-remote-interface');"
   ]
  },
  {
   "cell_type": "code",
   "execution_count": 9,
   "metadata": {},
   "outputs": [
    {
     "data": {
      "text/plain": [
       "EventEmitter {\n",
       "  _events: [Object: null prototype] {\n",
       "    connect: [Function: bound onceWrapper] {\n",
       "      listener: [AsyncFunction (anonymous)]\n",
       "    },\n",
       "    error: [Function (anonymous)]\n",
       "  },\n",
       "  _eventsCount: 2,\n",
       "  _maxListeners: undefined,\n",
       "  [Symbol(kCapture)]: false\n",
       "}"
      ]
     },
     "execution_count": 9,
     "metadata": {},
     "output_type": "execute_result"
    },
    {
     "name": "stdout",
     "output_type": "stream",
     "text": [
      "{ result: { type: 'string', value: '' } }\n"
     ]
    }
   ],
   "source": [
    "CDP(async function(client) {\n",
    "  const {Page, Runtime} = client;\n",
    "  await Page.enable();\n",
    "\n",
    "  await Page.navigate({url: 'https://twitter.com'});\n",
    "  await Page.loadEventFired();\n",
    "\n",
    "  const result = await Runtime.evaluate({\n",
    "    expression: 'document.title',\n",
    "    returnByValue: true\n",
    "  });\n",
    "  console.log(result)\n",
    "  // const title = await Page.getTitle();\n",
    "  // console.log(title); // Output: Example Domain\n",
    "\n",
    "  client.close();\n",
    "}).on('error', function(err) {\n",
    "  console.error('Cannot connect to Chrome:', err);\n",
    "});"
   ]
  }
 ],
 "metadata": {
  "kernelspec": {
   "display_name": "JavaScript (Node.js)",
   "language": "javascript",
   "name": "javascript"
  },
  "language_info": {
   "file_extension": ".js",
   "mimetype": "application/javascript",
   "name": "javascript",
   "version": "19.6.1"
  },
  "orig_nbformat": 4
 },
 "nbformat": 4,
 "nbformat_minor": 2
}
