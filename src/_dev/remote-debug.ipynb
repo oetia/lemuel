{
 "cells": [
  {
   "cell_type": "code",
   "execution_count": 1,
   "metadata": {},
   "outputs": [],
   "source": [
    "from selenium import webdriver\n",
    "from selenium.webdriver.chrome.service import Service"
   ]
  },
  {
   "cell_type": "code",
   "execution_count": 2,
   "metadata": {},
   "outputs": [],
   "source": [
    "options = webdriver.ChromeOptions()\n",
    "options.debugger_address = \"localhost:9222\"\n",
    "driver = webdriver.Chrome(options=options)"
   ]
  },
  {
   "cell_type": "code",
   "execution_count": 3,
   "metadata": {},
   "outputs": [
    {
     "data": {
      "text/plain": [
       "['D0EF50317E2AAB8FEC4AD4BCB25EA663',\n",
       " '2E7FBE0EE0E27C8FF3984C3556BC37E0',\n",
       " 'F8C18B2AC65FA4F75EF07220398908BB',\n",
       " '062F8BECF0034C99E7CCA9AA6980E69E',\n",
       " '7129C0CACF318A5666ECD8C67F9835E5',\n",
       " 'C2364F0E7BED960F8F717E0D4BD33D35',\n",
       " '67DFA975C241FDE93A5C41EAA656C0E7',\n",
       " '4A847446A5143A07AA87132BFFD1DDD1',\n",
       " 'E0B85B5B91A709821C747FE972F359BA']"
      ]
     },
     "execution_count": 3,
     "metadata": {},
     "output_type": "execute_result"
    }
   ],
   "source": [
    "tabs = driver.window_handles\n",
    "tabs"
   ]
  },
  {
   "cell_type": "code",
   "execution_count": 5,
   "metadata": {},
   "outputs": [],
   "source": [
    "driver.switch_to.window(tabs[4])"
   ]
  },
  {
   "cell_type": "code",
   "execution_count": 38,
   "metadata": {},
   "outputs": [],
   "source": [
    "driver.execute_script(\"document.title\")"
   ]
  },
  {
   "cell_type": "code",
   "execution_count": 36,
   "metadata": {},
   "outputs": [],
   "source": [
    "driver.execute_script(open(\"./js/test.js\").read())"
   ]
  },
  {
   "cell_type": "code",
   "execution_count": null,
   "metadata": {},
   "outputs": [],
   "source": []
  }
 ],
 "metadata": {
  "kernelspec": {
   "display_name": "dsc80_39",
   "language": "python",
   "name": "python3"
  },
  "language_info": {
   "codemirror_mode": {
    "name": "ipython",
    "version": 3
   },
   "file_extension": ".py",
   "mimetype": "text/x-python",
   "name": "python",
   "nbconvert_exporter": "python",
   "pygments_lexer": "ipython3",
   "version": "3.8.16"
  },
  "orig_nbformat": 4
 },
 "nbformat": 4,
 "nbformat_minor": 2
}
