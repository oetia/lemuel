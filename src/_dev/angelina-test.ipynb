{
 "cells": [
  {
   "cell_type": "code",
   "execution_count": 2,
   "metadata": {
    "vscode": {
     "languageId": "python"
    }
   },
   "outputs": [
    {
     "name": "stdout",
     "output_type": "stream",
     "text": [
      "00 - kuakua Creator Profile | Civitai\n",
      "01 - Anime Lineart / Manga-like (线稿/線画/マンガ風/漫画风) Style - v3.0 manga-like | Stable Diffusion LoRA | Civitai\n",
      "02 - MeinaHentai - V3 | Stable Diffusion Checkpoint | Civitai\n",
      "03 - MeinaMix - Meina V10 | Stable Diffusion Checkpoint | Civitai\n",
      "04 - Counterfeit-V3.0 - v3.0 | Stable Diffusion Checkpoint | Civitai\n",
      "05 - Civitai\n",
      "06 - 收件箱 (1) - samuelzhang012@gmail.com - Gmail\n",
      "07 - GitHub\n",
      "08 - Cetus-Mix - CetusMix_Coda2 | Stable Diffusion Checkpoint | Civitai\n",
      "09 - Best Nightcore Songs Mix 2023 ♫ Gaming Music Mix ♫ New Music 2023 EDM Gaming Music - YouTube\n",
      "10 - Your Repositories"
     ]
    }
   ],
   "source": [
    "%tabs"
   ]
  },
  {
   "cell_type": "code",
   "execution_count": 13,
   "metadata": {
    "vscode": {
     "languageId": "python"
    }
   },
   "outputs": [
    {
     "name": "stdout",
     "output_type": "stream",
     "text": [
      "SWITCHED TO TAB: 8"
     ]
    }
   ],
   "source": [
    "%switch 8"
   ]
  },
  {
   "cell_type": "code",
   "execution_count": 6,
   "metadata": {
    "vscode": {
     "languageId": "typescript"
    }
   },
   "outputs": [
    {
     "name": "stdout",
     "output_type": "stream",
     "text": [
      "{'result': {'type': 'undefined'}}"
     ]
    }
   ],
   "source": [
    "const asdf = () => {\n",
    "    console.log('2');\n",
    "}"
   ]
  },
  {
   "cell_type": "code",
   "execution_count": 7,
   "metadata": {
    "vscode": {
     "languageId": "typescript"
    }
   },
   "outputs": [
    {
     "name": "stdout",
     "output_type": "stream",
     "text": [
      "{'result': {'type': 'undefined'}}"
     ]
    }
   ],
   "source": [
    "asdf()"
   ]
  },
  {
   "cell_type": "code",
   "execution_count": 8,
   "metadata": {
    "vscode": {
     "languageId": "typescript"
    }
   },
   "outputs": [
    {
     "name": "stdout",
     "output_type": "stream",
     "text": [
      "{'result': {'type': 'undefined'}}"
     ]
    }
   ],
   "source": [
    "const recreateNode = (el: HTMLElement, withChildren?: boolean) => {\n",
    "    if (el.parentNode) {\n",
    "        if (withChildren) {\n",
    "            el.parentNode?.replaceChild(el.cloneNode(true), el);\n",
    "        } else if (el.firstChild) {\n",
    "            var newEl = el.cloneNode(false);\n",
    "            while (el.hasChildNodes()) newEl.appendChild(el.firstChild);\n",
    "            el.parentNode.replaceChild(newEl, el);\n",
    "        }\n",
    "    }\n",
    "}"
   ]
  },
  {
   "cell_type": "code",
   "execution_count": 10,
   "metadata": {
    "vscode": {
     "languageId": "typescript"
    }
   },
   "outputs": [
    {
     "name": "stdout",
     "output_type": "stream",
     "text": [
      "{'result': {'type': 'undefined'}}"
     ]
    }
   ],
   "source": [
    "document.body.removeEventListener(\"click\", clickListener);"
   ]
  },
  {
   "cell_type": "code",
   "execution_count": 12,
   "metadata": {
    "vscode": {
     "languageId": "typescript"
    }
   },
   "outputs": [
    {
     "name": "stdout",
     "output_type": "stream",
     "text": [
      "{'result': {'type': 'undefined'}}"
     ]
    }
   ],
   "source": [
    "document.body.removeEventListener(\"click\", clickListener);\n",
    "\n",
    "async function clickListener(event: MouseEvent) {\n",
    "    function extractRawPostUrl(path: EventTarget[]) {\n",
    "        for (let idx = 0; idx < path.length; idx++) {\n",
    "            const element = path[idx] as HTMLElement;\n",
    "            if (\n",
    "                (element.tagName == \"DIV\" &&\n",
    "                    element.classList.contains(\"mantine-mefm9g\")) ||\n",
    "                (element.tagName == \"DIV\" &&\n",
    "                    element.classList.contains(\"mantine-Paper-root\") &&\n",
    "                    element.classList.contains(\"mantine-Card-root\"))\n",
    "            ) {\n",
    "                for (let idx2 = 0; idx2 < element.children.length; idx2++) {\n",
    "                    const childElem = element.children[idx2];\n",
    "                    if (childElem.tagName == \"A\") {\n",
    "                        return childElem.getAttribute(\"href\");\n",
    "                    }\n",
    "                }\n",
    "            }\n",
    "        }\n",
    "    }\n",
    "\n",
    "    async function getImageUrlFromRawPostUrl(rawPostUrl: string) {\n",
    "        const postUrl = `${rawPostUrl.split(\"?\")[0]}`;\n",
    "        const htmlString = await fetch(postUrl).then((res) => res.text());\n",
    "        const doc = new DOMParser().parseFromString(htmlString, \"text/html\");\n",
    "        const ogImage = doc.querySelector(\"meta[property='og:image']\");\n",
    "        const ogImageUrl = ogImage?.getAttribute(\"content\");\n",
    "\n",
    "        return ogImageUrl;\n",
    "    }\n",
    "\n",
    "    async function initiateDownload(imageUrl: string, folder: string) {\n",
    "        console.log(imageUrl, folder);\n",
    "    }\n",
    "\n",
    "    const path = event.composedPath();\n",
    "    for (let idx = 0; idx < path.length; idx++) {\n",
    "        const element = path[idx] as HTMLElement;\n",
    "        if (\n",
    "            element.tagName === \"BUTTON\" &&\n",
    "            element.classList.contains(\"mantine-UnstyledButton-root\") &&\n",
    "            element.classList.contains(\"mantine-Button-root\") &&\n",
    "            element.classList.contains(\"mantine-5ko2nj\") // not selected class\n",
    "        ) {\n",
    "            console.log(element.textContent);\n",
    "            const rawPostUrl = extractRawPostUrl(path);\n",
    "            console.log(rawPostUrl);\n",
    "            if (rawPostUrl) {\n",
    "                const imageUrl = await getImageUrlFromRawPostUrl(rawPostUrl);\n",
    "                if (imageUrl) {\n",
    "                    if (element.textContent?.includes(\"👍\")) {\n",
    "                        await initiateDownload(imageUrl, \"like\");\n",
    "                    } else if (element.textContent?.includes(\"❤️\")) {\n",
    "                        await initiateDownload(imageUrl, \"love\");\n",
    "                    }\n",
    "                }\n",
    "            }\n",
    "            break;\n",
    "        }\n",
    "    }\n",
    "}\n",
    "\n",
    "document.body.addEventListener(\"click\", clickListener);"
   ]
  },
  {
   "cell_type": "code",
   "execution_count": 17,
   "metadata": {
    "vscode": {
     "languageId": "typescript"
    }
   },
   "outputs": [
    {
     "name": "stdout",
     "output_type": "stream",
     "text": [
      "{'result': {'type': 'undefined'}}"
     ]
    }
   ],
   "source": [
    "\n",
    "// @ts-ignore\n",
    "document.body.removeEventListener(\"click\", testClickListener); \n",
    "\n",
    "const testClickListener = (e: MouseEvent) => {\n",
    "    console.log(\"1231\");\n",
    "}\n",
    "\n",
    "document.body.addEventListener(\"click\", testClickListener);"
   ]
  },
  {
   "cell_type": "code",
   "execution_count": 15,
   "metadata": {
    "vscode": {
     "languageId": "typescript"
    }
   },
   "outputs": [
    {
     "name": "stdout",
     "output_type": "stream",
     "text": [
      "{'result': {'type': 'undefined'}}"
     ]
    }
   ],
   "source": []
  }
 ],
 "metadata": {
  "kernelspec": {
   "display_name": "angelina_kernel",
   "language": "text",
   "name": "angelina_kernel"
  },
  "language_info": {
   "file_extension": ".js",
   "mimetype": "application/javascript",
   "name": "JavaScript"
  },
  "orig_nbformat": 4
 },
 "nbformat": 4,
 "nbformat_minor": 2
}
